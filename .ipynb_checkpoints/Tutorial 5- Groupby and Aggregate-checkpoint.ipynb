{
 "cells": [
  {
   "cell_type": "code",
   "execution_count": 6,
   "id": "1fdcb46c",
   "metadata": {},
   "outputs": [],
   "source": [
    "from pyspark.sql import SparkSession\n",
    "spark = SparkSession.builder.appName('Practice').getOrCreate()"
   ]
  },
  {
   "cell_type": "code",
   "execution_count": 11,
   "id": "47bf5210",
   "metadata": {},
   "outputs": [
    {
     "name": "stdout",
     "output_type": "stream",
     "text": [
      "+-------+---+------+------------+\n",
      "|   Name|Age|Salary|  Department|\n",
      "+-------+---+------+------------+\n",
      "|  Pooja| 34| 80000|       Sales|\n",
      "| Diksha| 28|  3000|     Testing|\n",
      "|  Pooja| 45|980000|       Sales|\n",
      "|  Ankur| 32|560000|       Sales|\n",
      "|  Pooja| 32|  2000|       Sales|\n",
      "|  Ankur| 12| 50000|       Sales|\n",
      "|Swapnil| 27| 75000|Data Science|\n",
      "+-------+---+------+------------+\n",
      "\n"
     ]
    }
   ],
   "source": [
    "df = spark.read.csv('Book2.csv',header=True,inferSchema=True)\n",
    "df.show()"
   ]
  },
  {
   "cell_type": "code",
   "execution_count": 10,
   "id": "0eed4415",
   "metadata": {},
   "outputs": [
    {
     "name": "stdout",
     "output_type": "stream",
     "text": [
      "+-------+--------+-----------+\n",
      "|   Name|sum(Age)|sum(Salary)|\n",
      "+-------+--------+-----------+\n",
      "|  Ankur|      44|     610000|\n",
      "| Diksha|      28|       3000|\n",
      "|  Pooja|     111|    1062000|\n",
      "|Swapnil|      27|      75000|\n",
      "+-------+--------+-----------+\n",
      "\n"
     ]
    }
   ],
   "source": [
    "## groupby\n",
    "\n",
    "df.groupBy('Name').sum().show()"
   ]
  },
  {
   "cell_type": "code",
   "execution_count": 12,
   "id": "051d5649",
   "metadata": {},
   "outputs": [
    {
     "name": "stdout",
     "output_type": "stream",
     "text": [
      "+------------+--------+-----------+\n",
      "|  Department|avg(Age)|avg(Salary)|\n",
      "+------------+--------+-----------+\n",
      "|       Sales|    31.0|   334400.0|\n",
      "|     Testing|    28.0|     3000.0|\n",
      "|Data Science|    27.0|    75000.0|\n",
      "+------------+--------+-----------+\n",
      "\n"
     ]
    }
   ],
   "source": [
    "## group by departments having max salary\n",
    "\n",
    "df.groupBy('Department').mean().show()"
   ]
  },
  {
   "cell_type": "code",
   "execution_count": 13,
   "id": "aceec3a7",
   "metadata": {},
   "outputs": [
    {
     "name": "stdout",
     "output_type": "stream",
     "text": [
      "+------------+-----+\n",
      "|  Department|count|\n",
      "+------------+-----+\n",
      "|       Sales|    5|\n",
      "|     Testing|    1|\n",
      "|Data Science|    1|\n",
      "+------------+-----+\n",
      "\n"
     ]
    }
   ],
   "source": [
    "df.groupBy('Department').count().show()"
   ]
  },
  {
   "cell_type": "code",
   "execution_count": 14,
   "id": "d0bba1bf",
   "metadata": {},
   "outputs": [
    {
     "name": "stdout",
     "output_type": "stream",
     "text": [
      "+-----------+\n",
      "|sum(Salary)|\n",
      "+-----------+\n",
      "|    1750000|\n",
      "+-----------+\n",
      "\n"
     ]
    }
   ],
   "source": [
    "df.agg({'Salary':'sum'}).show()"
   ]
  },
  {
   "cell_type": "code",
   "execution_count": null,
   "id": "27df88d1",
   "metadata": {},
   "outputs": [],
   "source": []
  }
 ],
 "metadata": {
  "kernelspec": {
   "display_name": "Python 3",
   "language": "python",
   "name": "python3"
  },
  "language_info": {
   "codemirror_mode": {
    "name": "ipython",
    "version": 3
   },
   "file_extension": ".py",
   "mimetype": "text/x-python",
   "name": "python",
   "nbconvert_exporter": "python",
   "pygments_lexer": "ipython3",
   "version": "3.8.8"
  }
 },
 "nbformat": 4,
 "nbformat_minor": 5
}
