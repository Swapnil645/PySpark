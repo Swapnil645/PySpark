{
 "cells": [
  {
   "cell_type": "code",
   "execution_count": 1,
   "id": "4dacd990",
   "metadata": {},
   "outputs": [],
   "source": [
    "from pyspark.sql import SparkSession\n",
    "spark = SparkSession.builder.appName('Practice').getOrCreate()"
   ]
  },
  {
   "cell_type": "code",
   "execution_count": 3,
   "id": "2711ede9",
   "metadata": {},
   "outputs": [],
   "source": [
    "df = spark.read.csv('Book2.csv',header=True,inferSchema=True)"
   ]
  },
  {
   "cell_type": "code",
   "execution_count": 4,
   "id": "6664a37a",
   "metadata": {},
   "outputs": [
    {
     "name": "stdout",
     "output_type": "stream",
     "text": [
      "+------+---+------+\n",
      "|  Name|Age|Salary|\n",
      "+------+---+------+\n",
      "| Pooja| 34| 80000|\n",
      "|Diksha| 28|  null|\n",
      "|  null| 45|980000|\n",
      "| Ankur| 32|560000|\n",
      "+------+---+------+\n",
      "\n"
     ]
    }
   ],
   "source": [
    "df.show()"
   ]
  },
  {
   "cell_type": "code",
   "execution_count": 5,
   "id": "f1076167",
   "metadata": {},
   "outputs": [
    {
     "name": "stdout",
     "output_type": "stream",
     "text": [
      "+---+------+\n",
      "|Age|Salary|\n",
      "+---+------+\n",
      "| 34| 80000|\n",
      "| 28|  null|\n",
      "| 45|980000|\n",
      "| 32|560000|\n",
      "+---+------+\n",
      "\n"
     ]
    }
   ],
   "source": [
    "df.drop('Name').show()"
   ]
  },
  {
   "cell_type": "code",
   "execution_count": 6,
   "id": "5949896f",
   "metadata": {},
   "outputs": [
    {
     "name": "stdout",
     "output_type": "stream",
     "text": [
      "+-----+---+------+\n",
      "| Name|Age|Salary|\n",
      "+-----+---+------+\n",
      "|Pooja| 34| 80000|\n",
      "|Ankur| 32|560000|\n",
      "+-----+---+------+\n",
      "\n"
     ]
    }
   ],
   "source": [
    "df.na.drop().show()"
   ]
  },
  {
   "cell_type": "code",
   "execution_count": 7,
   "id": "711a1e6e",
   "metadata": {},
   "outputs": [
    {
     "name": "stdout",
     "output_type": "stream",
     "text": [
      "+------+---+------+\n",
      "|  Name|Age|Salary|\n",
      "+------+---+------+\n",
      "| Pooja| 34| 80000|\n",
      "|Diksha| 28|  null|\n",
      "|  null| 45|980000|\n",
      "| Ankur| 32|560000|\n",
      "+------+---+------+\n",
      "\n"
     ]
    }
   ],
   "source": [
    "df.na.drop(how='all').show()"
   ]
  },
  {
   "cell_type": "code",
   "execution_count": 8,
   "id": "024e6136",
   "metadata": {},
   "outputs": [
    {
     "name": "stdout",
     "output_type": "stream",
     "text": [
      "+------+---+------+\n",
      "|  Name|Age|Salary|\n",
      "+------+---+------+\n",
      "| Pooja| 34| 80000|\n",
      "|Diksha| 28|  null|\n",
      "|  null| 45|980000|\n",
      "| Ankur| 32|560000|\n",
      "+------+---+------+\n",
      "\n"
     ]
    }
   ],
   "source": [
    "df.na.drop(how='any',thresh=2).show() # atleast 2 values are null .. it will drop"
   ]
  },
  {
   "cell_type": "code",
   "execution_count": 10,
   "id": "32c9a832",
   "metadata": {},
   "outputs": [
    {
     "name": "stdout",
     "output_type": "stream",
     "text": [
      "+------+---+------+\n",
      "|  Name|Age|Salary|\n",
      "+------+---+------+\n",
      "| Pooja| 34| 80000|\n",
      "|Diksha| 28|  null|\n",
      "| Ankur| 32|560000|\n",
      "+------+---+------+\n",
      "\n"
     ]
    }
   ],
   "source": [
    "df.na.drop(how='any',subset=['Name']).show() "
   ]
  },
  {
   "cell_type": "code",
   "execution_count": 15,
   "id": "b5b6fc97",
   "metadata": {},
   "outputs": [
    {
     "name": "stdout",
     "output_type": "stream",
     "text": [
      "+------+---+------+\n",
      "|  Name|Age|Salary|\n",
      "+------+---+------+\n",
      "| Pooja| 34| 80000|\n",
      "|Diksha| 28|  6000|\n",
      "|  null| 45|980000|\n",
      "| Ankur| 32|560000|\n",
      "+------+---+------+\n",
      "\n"
     ]
    }
   ],
   "source": [
    "## Fill the missing values\n",
    "df.na.fill(6000).show()"
   ]
  },
  {
   "cell_type": "code",
   "execution_count": 19,
   "id": "1a6e3afc",
   "metadata": {},
   "outputs": [],
   "source": [
    "from pyspark.ml.feature import Imputer\n",
    "\n",
    "imputer = Imputer(\n",
    "inputCols = ['Age','Salary'],\n",
    "outputCols=['{}_imouted'.format(c) for c in ['Age','Salary']]\n",
    ").setStrategy('median')"
   ]
  },
  {
   "cell_type": "code",
   "execution_count": 20,
   "id": "ea238a05",
   "metadata": {},
   "outputs": [
    {
     "name": "stdout",
     "output_type": "stream",
     "text": [
      "+------+---+------+-----------+--------------+\n",
      "|  Name|Age|Salary|Age_imouted|Salary_imouted|\n",
      "+------+---+------+-----------+--------------+\n",
      "| Pooja| 34| 80000|         34|         80000|\n",
      "|Diksha| 28|  null|         28|        560000|\n",
      "|  null| 45|980000|         45|        980000|\n",
      "| Ankur| 32|560000|         32|        560000|\n",
      "+------+---+------+-----------+--------------+\n",
      "\n"
     ]
    }
   ],
   "source": [
    "imputer.fit(df).transform(df).show()"
   ]
  },
  {
   "cell_type": "code",
   "execution_count": null,
   "id": "56f4f234",
   "metadata": {},
   "outputs": [],
   "source": []
  }
 ],
 "metadata": {
  "kernelspec": {
   "display_name": "Python 3",
   "language": "python",
   "name": "python3"
  },
  "language_info": {
   "codemirror_mode": {
    "name": "ipython",
    "version": 3
   },
   "file_extension": ".py",
   "mimetype": "text/x-python",
   "name": "python",
   "nbconvert_exporter": "python",
   "pygments_lexer": "ipython3",
   "version": "3.8.8"
  }
 },
 "nbformat": 4,
 "nbformat_minor": 5
}
