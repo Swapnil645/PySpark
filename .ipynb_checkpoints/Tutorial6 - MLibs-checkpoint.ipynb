{
 "cells": [
  {
   "cell_type": "code",
   "execution_count": 1,
   "id": "4527eec2",
   "metadata": {},
   "outputs": [],
   "source": [
    "from pyspark.sql import SparkSession\n",
    "spark = SparkSession.builder.appName('Practice').getOrCreate()"
   ]
  },
  {
   "cell_type": "code",
   "execution_count": 3,
   "id": "fe36f2b9",
   "metadata": {},
   "outputs": [],
   "source": [
    "training = spark.read.csv('Book2.csv',header=True,inferSchema=True)"
   ]
  },
  {
   "cell_type": "code",
   "execution_count": 4,
   "id": "6444784e",
   "metadata": {},
   "outputs": [
    {
     "name": "stdout",
     "output_type": "stream",
     "text": [
      "+-------+----------+---+------+------------+\n",
      "|   Name|Experience|Age|Salary|  Department|\n",
      "+-------+----------+---+------+------------+\n",
      "| Diksha|         5| 28| 80000|     Testing|\n",
      "|  Ankur|         2| 32| 20000|       Sales|\n",
      "|  Pooja|         3| 32| 30000|       Sales|\n",
      "|Swapnil|         4| 27| 75000|Data Science|\n",
      "+-------+----------+---+------+------------+\n",
      "\n"
     ]
    }
   ],
   "source": [
    "training.show()"
   ]
  },
  {
   "cell_type": "code",
   "execution_count": 7,
   "id": "047cf7ff",
   "metadata": {},
   "outputs": [],
   "source": [
    "from pyspark.ml.feature import VectorAssembler\n",
    "featureAssembler=VectorAssembler(inputCols=['Age','Experience'],outputCol='Independant Variable')"
   ]
  },
  {
   "cell_type": "code",
   "execution_count": 9,
   "id": "5dd8af29",
   "metadata": {},
   "outputs": [],
   "source": [
    "output=featureAssembler.transform(training)"
   ]
  },
  {
   "cell_type": "code",
   "execution_count": 10,
   "id": "255a53f7",
   "metadata": {},
   "outputs": [
    {
     "name": "stdout",
     "output_type": "stream",
     "text": [
      "+-------+----------+---+------+------------+--------------------+\n",
      "|   Name|Experience|Age|Salary|  Department|Independant Variable|\n",
      "+-------+----------+---+------+------------+--------------------+\n",
      "| Diksha|         5| 28| 80000|     Testing|          [28.0,5.0]|\n",
      "|  Ankur|         2| 32| 20000|       Sales|          [32.0,2.0]|\n",
      "|  Pooja|         3| 32| 30000|       Sales|          [32.0,3.0]|\n",
      "|Swapnil|         4| 27| 75000|Data Science|          [27.0,4.0]|\n",
      "+-------+----------+---+------+------------+--------------------+\n",
      "\n"
     ]
    }
   ],
   "source": [
    "output.show()"
   ]
  },
  {
   "cell_type": "code",
   "execution_count": 11,
   "id": "039764a6",
   "metadata": {},
   "outputs": [],
   "source": [
    "finalized = output.select('Independant Variable','Salary')"
   ]
  },
  {
   "cell_type": "code",
   "execution_count": 12,
   "id": "134f9a56",
   "metadata": {},
   "outputs": [
    {
     "name": "stdout",
     "output_type": "stream",
     "text": [
      "+--------------------+------+\n",
      "|Independant Variable|Salary|\n",
      "+--------------------+------+\n",
      "|          [28.0,5.0]| 80000|\n",
      "|          [32.0,2.0]| 20000|\n",
      "|          [32.0,3.0]| 30000|\n",
      "|          [27.0,4.0]| 75000|\n",
      "+--------------------+------+\n",
      "\n"
     ]
    }
   ],
   "source": [
    "finalized.show()"
   ]
  },
  {
   "cell_type": "code",
   "execution_count": 16,
   "id": "bcca07f5",
   "metadata": {},
   "outputs": [
    {
     "name": "stderr",
     "output_type": "stream",
     "text": [
      "Exception ignored in: <function JavaWrapper.__del__ at 0x000002AB79F21C10>\n",
      "Traceback (most recent call last):\n",
      "  File \"C:\\Users\\pushk\\anaconda3\\lib\\site-packages\\pyspark\\ml\\wrapper.py\", line 53, in __del__\n",
      "    if SparkContext._active_spark_context and self._java_obj is not None:\n",
      "AttributeError: 'LinearRegression' object has no attribute '_java_obj'\n",
      "Exception ignored in: <function JavaWrapper.__del__ at 0x000002AB79F21C10>\n",
      "Traceback (most recent call last):\n",
      "  File \"C:\\Users\\pushk\\anaconda3\\lib\\site-packages\\pyspark\\ml\\wrapper.py\", line 53, in __del__\n",
      "    if SparkContext._active_spark_context and self._java_obj is not None:\n",
      "AttributeError: 'LinearRegression' object has no attribute '_java_obj'\n"
     ]
    }
   ],
   "source": [
    "from pyspark.ml.regression import LinearRegression\n",
    "\n",
    "train_data,test_data = finalized.randomSplit([0.75,0.25])\n",
    "regressor = LinearRegression(featuresCol='Independant Variable',labelCol='Salary')\n",
    "regressor = regressor.fit(train_data)"
   ]
  },
  {
   "cell_type": "code",
   "execution_count": 17,
   "id": "0162a44a",
   "metadata": {},
   "outputs": [
    {
     "data": {
      "text/plain": [
       "DenseVector([-6666.6667, 11666.6667])"
      ]
     },
     "execution_count": 17,
     "metadata": {},
     "output_type": "execute_result"
    }
   ],
   "source": [
    "regressor.coefficients"
   ]
  },
  {
   "cell_type": "code",
   "execution_count": 18,
   "id": "2bbb7b2f",
   "metadata": {},
   "outputs": [
    {
     "data": {
      "text/plain": [
       "208333.33333334263"
      ]
     },
     "execution_count": 18,
     "metadata": {},
     "output_type": "execute_result"
    }
   ],
   "source": [
    "regressor.intercept"
   ]
  },
  {
   "cell_type": "code",
   "execution_count": 19,
   "id": "a983c450",
   "metadata": {},
   "outputs": [
    {
     "name": "stdout",
     "output_type": "stream",
     "text": [
      "+--------------------+------+----------------+\n",
      "|Independant Variable|Salary|      prediction|\n",
      "+--------------------+------+----------------+\n",
      "|          [32.0,2.0]| 20000|18333.3333333341|\n",
      "+--------------------+------+----------------+\n",
      "\n"
     ]
    }
   ],
   "source": [
    "pred_results  = regressor.evaluate(test_data)\n",
    "pred_results.predictions.show()"
   ]
  },
  {
   "cell_type": "code",
   "execution_count": null,
   "id": "130042de",
   "metadata": {},
   "outputs": [],
   "source": []
  }
 ],
 "metadata": {
  "kernelspec": {
   "display_name": "Python 3",
   "language": "python",
   "name": "python3"
  },
  "language_info": {
   "codemirror_mode": {
    "name": "ipython",
    "version": 3
   },
   "file_extension": ".py",
   "mimetype": "text/x-python",
   "name": "python",
   "nbconvert_exporter": "python",
   "pygments_lexer": "ipython3",
   "version": "3.8.8"
  }
 },
 "nbformat": 4,
 "nbformat_minor": 5
}
