{
 "cells": [
  {
   "cell_type": "code",
   "execution_count": 1,
   "id": "2c925976",
   "metadata": {},
   "outputs": [],
   "source": [
    "from pyspark.sql import SparkSession"
   ]
  },
  {
   "cell_type": "code",
   "execution_count": 2,
   "id": "826238cd",
   "metadata": {},
   "outputs": [],
   "source": [
    "spark=SparkSession.builder.appName('Dataframe').getOrCreate()"
   ]
  },
  {
   "cell_type": "code",
   "execution_count": 3,
   "id": "a35dc351",
   "metadata": {},
   "outputs": [
    {
     "data": {
      "text/html": [
       "\n",
       "            <div>\n",
       "                <p><b>SparkSession - in-memory</b></p>\n",
       "                \n",
       "        <div>\n",
       "            <p><b>SparkContext</b></p>\n",
       "\n",
       "            <p><a href=\"http://LAPTOP-0LT5A9RC:4041\">Spark UI</a></p>\n",
       "\n",
       "            <dl>\n",
       "              <dt>Version</dt>\n",
       "                <dd><code>v3.3.0</code></dd>\n",
       "              <dt>Master</dt>\n",
       "                <dd><code>local[*]</code></dd>\n",
       "              <dt>AppName</dt>\n",
       "                <dd><code>Dataframe</code></dd>\n",
       "            </dl>\n",
       "        </div>\n",
       "        \n",
       "            </div>\n",
       "        "
      ],
      "text/plain": [
       "<pyspark.sql.session.SparkSession at 0x2007ea46250>"
      ]
     },
     "execution_count": 3,
     "metadata": {},
     "output_type": "execute_result"
    }
   ],
   "source": [
    "spark"
   ]
  },
  {
   "cell_type": "code",
   "execution_count": 8,
   "id": "dedfc362",
   "metadata": {},
   "outputs": [],
   "source": [
    "##read the dataset\n",
    "\n",
    "df = spark.read.option('header','true').csv('book1.csv',inferSchema=True)"
   ]
  },
  {
   "cell_type": "code",
   "execution_count": 9,
   "id": "482d692c",
   "metadata": {},
   "outputs": [
    {
     "name": "stdout",
     "output_type": "stream",
     "text": [
      "root\n",
      " |-- name: string (nullable = true)\n",
      " |-- emp id: integer (nullable = true)\n",
      "\n"
     ]
    }
   ],
   "source": [
    "df.printSchema()"
   ]
  },
  {
   "cell_type": "code",
   "execution_count": 10,
   "id": "da9f986f",
   "metadata": {},
   "outputs": [],
   "source": [
    "df=spark.read.csv('book1.csv',header=True,inferSchema=True)"
   ]
  },
  {
   "cell_type": "code",
   "execution_count": 11,
   "id": "f2392bee",
   "metadata": {},
   "outputs": [
    {
     "data": {
      "text/plain": [
       "['name', 'emp id']"
      ]
     },
     "execution_count": 11,
     "metadata": {},
     "output_type": "execute_result"
    }
   ],
   "source": [
    "df.columns"
   ]
  },
  {
   "cell_type": "code",
   "execution_count": 13,
   "id": "402abbc6",
   "metadata": {},
   "outputs": [
    {
     "data": {
      "text/plain": [
       "DataFrame[name: string, emp id: int]"
      ]
     },
     "execution_count": 13,
     "metadata": {},
     "output_type": "execute_result"
    }
   ],
   "source": [
    "#select column of df\n",
    "\n",
    "df.select(['name','emp id'])"
   ]
  },
  {
   "cell_type": "code",
   "execution_count": 14,
   "id": "c9d38d56",
   "metadata": {},
   "outputs": [
    {
     "data": {
      "text/plain": [
       "[('name', 'string'), ('emp id', 'int')]"
      ]
     },
     "execution_count": 14,
     "metadata": {},
     "output_type": "execute_result"
    }
   ],
   "source": [
    "df.dtypes"
   ]
  },
  {
   "cell_type": "code",
   "execution_count": 16,
   "id": "36a18ef6",
   "metadata": {},
   "outputs": [
    {
     "name": "stdout",
     "output_type": "stream",
     "text": [
      "+-------+-------+------+\n",
      "|summary|   name|emp id|\n",
      "+-------+-------+------+\n",
      "|  count|      3|     3|\n",
      "|   mean|   null|   2.0|\n",
      "| stddev|   null|   1.0|\n",
      "|    min| gaurav|     1|\n",
      "|    max|swapnil|     3|\n",
      "+-------+-------+------+\n",
      "\n"
     ]
    }
   ],
   "source": [
    "df.describe().show()"
   ]
  },
  {
   "cell_type": "code",
   "execution_count": 18,
   "id": "cf721bed",
   "metadata": {},
   "outputs": [
    {
     "name": "stdout",
     "output_type": "stream",
     "text": [
      "+-------+------+------------------------+\n",
      "|   name|emp id|Experience after 2 years|\n",
      "+-------+------+------------------------+\n",
      "|swapnil|     1|                       3|\n",
      "| pratik|     2|                       4|\n",
      "| gaurav|     3|                       5|\n",
      "+-------+------+------------------------+\n",
      "\n"
     ]
    }
   ],
   "source": [
    "###Adding Columns\n",
    "\n",
    "df = df.withColumn('Experience after 2 years',df['emp id']+2)"
   ]
  },
  {
   "cell_type": "code",
   "execution_count": 19,
   "id": "00cc09fd",
   "metadata": {},
   "outputs": [
    {
     "name": "stdout",
     "output_type": "stream",
     "text": [
      "+-------+------+\n",
      "|   name|emp id|\n",
      "+-------+------+\n",
      "|swapnil|     1|\n",
      "| pratik|     2|\n",
      "| gaurav|     3|\n",
      "+-------+------+\n",
      "\n"
     ]
    }
   ],
   "source": [
    "##drop columns\n",
    "\n",
    "df.drop('Experience after 2 years').show()"
   ]
  },
  {
   "cell_type": "code",
   "execution_count": 21,
   "id": "4c3e7e86",
   "metadata": {},
   "outputs": [
    {
     "name": "stdout",
     "output_type": "stream",
     "text": [
      "+--------+------+\n",
      "|new_name|emp id|\n",
      "+--------+------+\n",
      "| swapnil|     1|\n",
      "|  pratik|     2|\n",
      "|  gaurav|     3|\n",
      "+--------+------+\n",
      "\n"
     ]
    }
   ],
   "source": [
    "##Rename\n",
    "\n",
    "df.withColumnRenamed('name','new_name').show()"
   ]
  },
  {
   "cell_type": "code",
   "execution_count": null,
   "id": "7fbd8a46",
   "metadata": {},
   "outputs": [],
   "source": []
  }
 ],
 "metadata": {
  "kernelspec": {
   "display_name": "Python 3",
   "language": "python",
   "name": "python3"
  },
  "language_info": {
   "codemirror_mode": {
    "name": "ipython",
    "version": 3
   },
   "file_extension": ".py",
   "mimetype": "text/x-python",
   "name": "python",
   "nbconvert_exporter": "python",
   "pygments_lexer": "ipython3",
   "version": "3.8.8"
  }
 },
 "nbformat": 4,
 "nbformat_minor": 5
}
